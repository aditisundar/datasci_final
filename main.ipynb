{
 "cells": [
  {
   "cell_type": "markdown",
   "metadata": {},
   "source": []
  },
  {
   "cell_type": "code",
   "execution_count": 42,
   "metadata": {},
   "outputs": [
    {
     "ename": "IndentationError",
     "evalue": "expected an indented block (<ipython-input-42-620ea856b0f5>, line 23)",
     "output_type": "error",
     "traceback": [
      "\u001b[0;36m  File \u001b[0;32m\"<ipython-input-42-620ea856b0f5>\"\u001b[0;36m, line \u001b[0;32m23\u001b[0m\n\u001b[0;31m    if playlists['next']:\u001b[0m\n\u001b[0m     ^\u001b[0m\n\u001b[0;31mIndentationError\u001b[0m\u001b[0;31m:\u001b[0m expected an indented block\n"
     ]
    }
   ],
   "source": [
    "import requests\n",
    "import spotipy\n",
    "from spotipy.oauth2 import SpotifyClientCredentials\n",
    "import spotipy.util as util\n",
    "\n",
    "\n",
    "sp = spotipy.Spotify()\n",
    "\n",
    "#tok = util.prompt_for_user_token(client_id=cid, client_secret=csec)\n",
    "        \n",
    "cid = \"34f843c5f22c4242a2647ec4651ba2ce\"\n",
    "csec = \"0826e491d90f4e43bbaec2fee7534610\"\n",
    "\n",
    "\n",
    "client_credentials_manager = SpotifyClientCredentials(client_id=cid, client_secret=csec)\n",
    "sp = spotipy.Spotify(client_credentials_manager=client_credentials_manager)\n",
    "\n",
    "playlists = sp.user_playlists('1279914484')\n",
    "\n",
    "while playlists:\n",
    "    for i, playlist in enumerate(playlists['items']):\n",
    "        print(\"%4d %s %s\" % (i + 1 + playlists['offset'], playlist['uri'],  playlist['name']))\n",
    "    if playlists['next']:\n",
    "        playlists = sp.next(playlists)\n",
    "    else:\n",
    "        playlists = None\n",
    "\n"
   ]
  },
  {
   "cell_type": "code",
   "execution_count": 99,
   "metadata": {},
   "outputs": [],
   "source": [
    "import pandas as pd\n",
    "import json\n",
    "import pprint\n",
    "\n",
    "user_id = \"1279914484\"\n",
    "pp = pprint.PrettyPrinter(indent=4)\n",
    "\n",
    "\n",
    "\n",
    "\n",
    "\n",
    "def df_from_playlist(uri,user=user_id):\n",
    "    p1 = sp.user_playlist(user=user, playlist_id=uri)\n",
    "\n",
    "    p1_dict = {\"name\":[], \"uri\":[]}\n",
    "\n",
    "    for song in p1['tracks']['items']:\n",
    "        name = song['track']['name']\n",
    "        uri = song['track']['uri'].split(\":\")[2]\n",
    "        anal = sp.audio_features(uri)[0]\n",
    "\n",
    "        wanted_keys = [\"danceability\",\"energy\", \"loudness\", \"speechiness\", \"acousticness\", \"instrumentalness\", \"valence\", \"tempo\"]\n",
    "        sub = dict((k, anal[k]) for k in wanted_keys if k in anal)\n",
    "\n",
    "        p1_dict['name'] += [name]\n",
    "        p1_dict['uri'] +=  [uri]\n",
    "        for k in wanted_keys:\n",
    "            if k in p1_dict:\n",
    "                p1_dict[k] += [sub[k]]\n",
    "            else:\n",
    "                p1_dict[k] = [sub[k]]\n",
    "    return pd.DataFrame.from_dict(p1_dict)\n",
    "    \n",
    "    \n",
    "    \n",
    "    "
   ]
  },
  {
   "cell_type": "code",
   "execution_count": 107,
   "metadata": {},
   "outputs": [],
   "source": [
    "#chill = df_from_playlist(\"3rtLzJWLTVxeG5iWWVFvgg\")\n",
    "#yuh = df_from_playlist(\"0S4TYq34iAGiofq4LsIsaO\")"
   ]
  },
  {
   "cell_type": "code",
   "execution_count": null,
   "metadata": {},
   "outputs": [],
   "source": []
  },
  {
   "cell_type": "code",
   "execution_count": null,
   "metadata": {},
   "outputs": [],
   "source": []
  },
  {
   "cell_type": "code",
   "execution_count": null,
   "metadata": {},
   "outputs": [],
   "source": []
  }
 ],
 "metadata": {
  "kernelspec": {
   "display_name": "Python 3",
   "language": "python",
   "name": "python3"
  },
  "language_info": {
   "codemirror_mode": {
    "name": "ipython",
    "version": 3
   },
   "file_extension": ".py",
   "mimetype": "text/x-python",
   "name": "python",
   "nbconvert_exporter": "python",
   "pygments_lexer": "ipython3",
   "version": "3.6.4"
  }
 },
 "nbformat": 4,
 "nbformat_minor": 2
}
